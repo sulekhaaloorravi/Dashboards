{
 "cells": [
  {
   "cell_type": "code",
   "execution_count": 2,
   "id": "f8ca7b68-318c-43dd-af79-482c99ff99f0",
   "metadata": {},
   "outputs": [
    {
     "data": {
      "text/html": [
       "\n",
       "        <iframe\n",
       "            width=\"100%\"\n",
       "            height=\"650\"\n",
       "            src=\"http://127.0.0.1:8050/\"\n",
       "            frameborder=\"0\"\n",
       "            allowfullscreen\n",
       "            \n",
       "        ></iframe>\n",
       "        "
      ],
      "text/plain": [
       "<IPython.lib.display.IFrame at 0x2a10248b6e0>"
      ]
     },
     "metadata": {},
     "output_type": "display_data"
    }
   ],
   "source": [
    "import pandas as pd\n",
    "import dash\n",
    "from dash import html, dcc, Input, Output\n",
    "import plotly.express as px\n",
    "\n",
    "# === FILE PATH ===\n",
    "FILE_PATH = \"student_data.xlsx\"  # Change to \"student_data.csv\" if needed\n",
    "\n",
    "# === LOAD DATA ===\n",
    "if FILE_PATH.endswith(\".xlsx\"):\n",
    "    df = pd.read_excel(FILE_PATH)\n",
    "else:\n",
    "    df = pd.read_csv(FILE_PATH)\n",
    "\n",
    "# === DEFINE COLUMNS ===\n",
    "class_cols = [f\"Class {i}\" for i in range(1, 7)]\n",
    "subject_cols = [\"Math\", \"English\", \"Science\", \"Social\"]\n",
    "\n",
    "# === FLATTEN CLASS NAMES ===\n",
    "all_classes = pd.unique(df[class_cols].values.ravel())\n",
    "all_classes = [c for c in all_classes if pd.notna(c) and c != \"\"]\n",
    "\n",
    "# === DASH APP SETUP ===\n",
    "app = dash.Dash(__name__)\n",
    "app.title = \"Student Class & Subject Dashboard\"\n",
    "\n",
    "app.layout = html.Div([\n",
    "    html.H2(\"Student Performance & Class Allocation Dashboard\"),\n",
    "    \n",
    "    html.Label(\"Filter by Class:\"),\n",
    "    dcc.Dropdown(\n",
    "        id=\"class-filter\",\n",
    "        options=[{\"label\": c, \"value\": c} for c in sorted(all_classes)],\n",
    "        placeholder=\"Select a class...\",\n",
    "        multi=False\n",
    "    ),\n",
    "    \n",
    "    dcc.Graph(id=\"subject-heatmap\"),\n",
    "    \n",
    "    html.H3(\"Class Assignment Table\"),\n",
    "    html.Div(id=\"class-table\")\n",
    "])\n",
    "\n",
    "# === CALLBACK ===\n",
    "@app.callback(\n",
    "    Output(\"subject-heatmap\", \"figure\"),\n",
    "    Output(\"class-table\", \"children\"),\n",
    "    Input(\"class-filter\", \"value\")\n",
    ")\n",
    "def update_dashboard(selected_class):\n",
    "    if selected_class:\n",
    "        mask = df[class_cols].apply(lambda row: selected_class in row.values, axis=1)\n",
    "        filtered_df = df[mask].copy()\n",
    "    else:\n",
    "        filtered_df = df.copy()\n",
    "\n",
    "    heatmap_df = filtered_df[[\"Student\"] + subject_cols].set_index(\"Student\")\n",
    "\n",
    "    fig = px.imshow(\n",
    "        heatmap_df,\n",
    "        text_auto=True,\n",
    "        color_continuous_scale=\"Blues\",\n",
    "        title=\"Subject Scores Heatmap\",\n",
    "        aspect=\"auto\"\n",
    "    )\n",
    "\n",
    "    table_cols = [\"Student\"] + class_cols\n",
    "    table_html = html.Table([\n",
    "        html.Thead(html.Tr([html.Th(col) for col in table_cols])),\n",
    "        html.Tbody([\n",
    "            html.Tr([html.Td(filtered_df.iloc[i][col]) for col in table_cols])\n",
    "            for i in range(len(filtered_df))\n",
    "        ])\n",
    "    ])\n",
    "\n",
    "    return fig, table_html\n",
    "\n",
    "# === RUN APP ===\n",
    "if __name__ == '__main__':\n",
    "    app.run(debug=True)\n"
   ]
  },
  {
   "cell_type": "code",
   "execution_count": null,
   "id": "a57ec501-8888-4cde-beb9-4a87128322f0",
   "metadata": {},
   "outputs": [],
   "source": []
  }
 ],
 "metadata": {
  "kernelspec": {
   "display_name": "Python 3 (ipykernel)",
   "language": "python",
   "name": "python3"
  },
  "language_info": {
   "codemirror_mode": {
    "name": "ipython",
    "version": 3
   },
   "file_extension": ".py",
   "mimetype": "text/x-python",
   "name": "python",
   "nbconvert_exporter": "python",
   "pygments_lexer": "ipython3",
   "version": "3.12.7"
  }
 },
 "nbformat": 4,
 "nbformat_minor": 5
}
